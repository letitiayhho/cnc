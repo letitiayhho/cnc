{
 "cells": [
  {
   "cell_type": "code",
   "execution_count": 1,
   "id": "5086cd52",
   "metadata": {},
   "outputs": [],
   "source": [
    "# def flatten(l):\n",
    "#     return [item for sublist in l for item in sublist]\n",
    "\n",
    "# def compare_first_phon(word_ipa, response_ipa):\n",
    "#     # Compare first phon\n",
    "#     if word_ipa[0] == response_ipa[0]:\n",
    "#         hit_phons = [word_ipa[0]]\n",
    "#         n_hit_phons = 1\n",
    "#         missed_phons = []\n",
    "#     else:\n",
    "#         hit_phons = []\n",
    "#         n_hit_phons = 0\n",
    "#         missed_phons = [word_ipa[0]]\n",
    "\n",
    "#     del word_ipa[0]\n",
    "#     del response_ipa[0]\n",
    "\n",
    "#     print(\"Comparing first phon\")\n",
    "#     print(f\"hit_phons: {hit_phons}\")\n",
    "#     print(f\"n_hit_phons: {n_hit_phons}\")\n",
    "#     print(f\"missed_phons: {missed_phons}\")\n",
    "\n",
    "#     return(word_ipa, response_ipa, hit_phons, n_hit_phons, missed_phons)\n",
    "\n",
    "# def score_word(word_ipa, response_ipa):\n",
    "#     # Compare first phon\n",
    "#     words_ipa, response_ipa, hit_phons, n_hit_phons, missed_phons = compare_first_phon(word_ipa, response_ipa)\n",
    "\n",
    "#     # Compare ipa symbols for remaining phons\n",
    "#     word_ipa = set(word_ipa)\n",
    "#     response_ipa = set(response_ipa)\n",
    "\n",
    "#     # Add to scores\n",
    "#     hit_phons.append(list(word_ipa.intersection(response_ipa)))\n",
    "#     n_hit_phons += len(hit_phons)\n",
    "#     missed_phons.append(list(word_ipa.difference(response_ipa)))\n",
    "\n",
    "#     hit_phons = flatten(hit_phons)\n",
    "#     missed_phons = flatten(missed_phons)\n",
    "    \n",
    "#     print(\"Comparing rest phon\")\n",
    "#     print(f\"hit_phons: {hit_phons}\")\n",
    "#     print(f\"n_hit_phons: {n_hit_phons}\")\n",
    "#     print(f\"missed_phons: {missed_phons}\")\n",
    "    \n",
    "#     return(n_hit_phons, hit_phons, missed_phons)\n"
   ]
  },
  {
   "cell_type": "code",
   "execution_count": 1,
   "id": "acc9341d",
   "metadata": {},
   "outputs": [
    {
     "name": "stdout",
     "output_type": "stream",
     "text": [
      "Comparing first phon\n",
      "hit_phons: []\n",
      "n_hit_phons: 0\n",
      "missed_phons: ['c']\n",
      "Comparing rest phon\n",
      "hit_phons: ['b']\n",
      "n_hit_phons: 1\n",
      "missed_phons: ['c', 'a', 'd']\n"
     ]
    },
    {
     "data": {
      "text/plain": [
       "(1, ['b'], ['c', 'a', 'd'])"
      ]
     },
     "execution_count": 1,
     "metadata": {},
     "output_type": "execute_result"
    }
   ],
   "source": [
    "from score_list import *\n",
    "word_ipa = ['c', 'b', 'd', 'a']\n",
    "response_ipa = ['a', 'b', 'c']\n",
    "score_word(word_ipa, response_ipa)"
   ]
  },
  {
   "cell_type": "code",
   "execution_count": null,
   "id": "e483db48",
   "metadata": {},
   "outputs": [],
   "source": []
  }
 ],
 "metadata": {
  "kernelspec": {
   "display_name": "Python 3 (ipykernel)",
   "language": "python",
   "name": "python3"
  },
  "language_info": {
   "codemirror_mode": {
    "name": "ipython",
    "version": 3
   },
   "file_extension": ".py",
   "mimetype": "text/x-python",
   "name": "python",
   "nbconvert_exporter": "python",
   "pygments_lexer": "ipython3",
   "version": "3.9.13"
  }
 },
 "nbformat": 4,
 "nbformat_minor": 5
}
