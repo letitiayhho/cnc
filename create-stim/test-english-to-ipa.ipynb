{
 "cells": [
  {
   "cell_type": "code",
   "execution_count": 9,
   "id": "04f87e39",
   "metadata": {},
   "outputs": [],
   "source": [
    "import eng_to_ipa\n",
    "import pandas as pd"
   ]
  },
  {
   "cell_type": "code",
   "execution_count": 3,
   "id": "61a19ea5",
   "metadata": {},
   "outputs": [],
   "source": [
    "wordlist = pd.read_csv('stim/wordlist/list-1.csv')"
   ]
  },
  {
   "cell_type": "code",
   "execution_count": 10,
   "id": "9dc0960a",
   "metadata": {},
   "outputs": [],
   "source": [
    "words = wordlist['word']\n",
    "ipa = []\n",
    "for word in words:\n",
    "    ipa.append(eng_to_ipa.convert(word))"
   ]
  },
  {
   "cell_type": "code",
   "execution_count": 12,
   "id": "674e0cee",
   "metadata": {},
   "outputs": [],
   "source": [
    "wordlist['ipa'] = ipa"
   ]
  },
  {
   "cell_type": "code",
   "execution_count": 15,
   "id": "a764a145",
   "metadata": {},
   "outputs": [],
   "source": [
    "wordlist.to_csv('stim/wordlist/list-1-2.csv')"
   ]
  }
 ],
 "metadata": {
  "kernelspec": {
   "display_name": "Python 3 (ipykernel)",
   "language": "python",
   "name": "python3"
  },
  "language_info": {
   "codemirror_mode": {
    "name": "ipython",
    "version": 3
   },
   "file_extension": ".py",
   "mimetype": "text/x-python",
   "name": "python",
   "nbconvert_exporter": "python",
   "pygments_lexer": "ipython3",
   "version": "3.9.13"
  }
 },
 "nbformat": 4,
 "nbformat_minor": 5
}
